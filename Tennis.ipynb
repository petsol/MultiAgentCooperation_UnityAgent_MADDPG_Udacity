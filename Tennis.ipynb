{
 "cells": [
  {
   "cell_type": "markdown",
   "metadata": {},
   "source": [
    "# Collaboration and Competition\n",
    "\n",
    "---\n",
    "\n",
    "In this notebook, you will learn how to use the Unity ML-Agents environment for the third project of the [Deep Reinforcement Learning Nanodegree](https://www.udacity.com/course/deep-reinforcement-learning-nanodegree--nd893) program.\n",
    "\n",
    "### 1. Start the Environment\n",
    "\n",
    "We begin by importing the necessary packages.  If the code cell below returns an error, please revisit the project instructions to double-check that you have installed [Unity ML-Agents](https://github.com/Unity-Technologies/ml-agents/blob/master/docs/Installation.md) and [NumPy](http://www.numpy.org/)."
   ]
  },
  {
   "cell_type": "code",
   "execution_count": 1,
   "metadata": {},
   "outputs": [],
   "source": [
    "from unityagents import UnityEnvironment\n",
    "import numpy as np"
   ]
  },
  {
   "cell_type": "markdown",
   "metadata": {},
   "source": [
    "Next, we will start the environment!  **_Before running the code cell below_**, change the `file_name` parameter to match the location of the Unity environment that you downloaded.\n",
    "\n",
    "- **Mac**: `\"path/to/Tennis.app\"`\n",
    "- **Windows** (x86): `\"path/to/Tennis_Windows_x86/Tennis.exe\"`\n",
    "- **Windows** (x86_64): `\"path/to/Tennis_Windows_x86_64/Tennis.exe\"`\n",
    "- **Linux** (x86): `\"path/to/Tennis_Linux/Tennis.x86\"`\n",
    "- **Linux** (x86_64): `\"path/to/Tennis_Linux/Tennis.x86_64\"`\n",
    "- **Linux** (x86, headless): `\"path/to/Tennis_Linux_NoVis/Tennis.x86\"`\n",
    "- **Linux** (x86_64, headless): `\"path/to/Tennis_Linux_NoVis/Tennis.x86_64\"`\n",
    "\n",
    "For instance, if you are using a Mac, then you downloaded `Tennis.app`.  If this file is in the same folder as the notebook, then the line below should appear as follows:\n",
    "```\n",
    "env = UnityEnvironment(file_name=\"Tennis.app\")\n",
    "```"
   ]
  },
  {
   "cell_type": "code",
   "execution_count": 2,
   "metadata": {},
   "outputs": [
    {
     "name": "stderr",
     "output_type": "stream",
     "text": [
      "INFO:unityagents:\n",
      "'Academy' started successfully!\n",
      "Unity Academy name: Academy\n",
      "        Number of Brains: 1\n",
      "        Number of External Brains : 1\n",
      "        Lesson number : 0\n",
      "        Reset Parameters :\n",
      "\t\t\n",
      "Unity brain name: TennisBrain\n",
      "        Number of Visual Observations (per agent): 0\n",
      "        Vector Observation space type: continuous\n",
      "        Vector Observation space size (per agent): 8\n",
      "        Number of stacked Vector Observation: 3\n",
      "        Vector Action space type: continuous\n",
      "        Vector Action space size (per agent): 2\n",
      "        Vector Action descriptions: , \n"
     ]
    }
   ],
   "source": [
    "env = UnityEnvironment(file_name=\"Tennis_Windows_x86_64/Tennis.exe\")"
   ]
  },
  {
   "cell_type": "markdown",
   "metadata": {},
   "source": [
    "Environments contain **_brains_** which are responsible for deciding the actions of their associated agents. Here we check for the first brain available, and set it as the default brain we will be controlling from Python."
   ]
  },
  {
   "cell_type": "code",
   "execution_count": 3,
   "metadata": {},
   "outputs": [],
   "source": [
    "# get the default brain\n",
    "brain_name = env.brain_names[0]\n",
    "brain = env.brains[brain_name]"
   ]
  },
  {
   "cell_type": "markdown",
   "metadata": {},
   "source": [
    "### 2. Examine the State and Action Spaces\n",
    "\n",
    "In this environment, two agents control rackets to bounce a ball over a net. If an agent hits the ball over the net, it receives a reward of +0.1.  If an agent lets a ball hit the ground or hits the ball out of bounds, it receives a reward of -0.01.  Thus, the goal of each agent is to keep the ball in play.\n",
    "\n",
    "The observation space consists of 8 variables corresponding to the position and velocity of the ball and racket. Two continuous actions are available, corresponding to movement toward (or away from) the net, and jumping. \n",
    "\n",
    "Run the code cell below to print some information about the environment."
   ]
  },
  {
   "cell_type": "code",
   "execution_count": 4,
   "metadata": {},
   "outputs": [
    {
     "name": "stdout",
     "output_type": "stream",
     "text": [
      "Number of agents: 2\n",
      "Size of each action: 2\n",
      "There are 2 agents. Each observes a state with length: 24\n",
      "The state for the first agent looks like: [ 0.          0.          0.          0.          0.          0.\n",
      "  0.          0.          0.          0.          0.          0.\n",
      "  0.          0.          0.          0.         -6.65278625 -1.5\n",
      " -0.          0.          6.83172083  6.         -0.          0.        ]\n"
     ]
    }
   ],
   "source": [
    "# reset the environment\n",
    "env_info = env.reset(train_mode=True)[brain_name]\n",
    "\n",
    "# number of agents \n",
    "num_agents = len(env_info.agents)\n",
    "print('Number of agents:', num_agents)\n",
    "\n",
    "# size of each action\n",
    "action_size = brain.vector_action_space_size\n",
    "print('Size of each action:', action_size)\n",
    "\n",
    "# examine the state space \n",
    "states = env_info.vector_observations\n",
    "state_size = states.shape[1]\n",
    "print('There are {} agents. Each observes a state with length: {}'.format(states.shape[0], state_size))\n",
    "print('The state for the first agent looks like:', states[0])"
   ]
  },
  {
   "cell_type": "markdown",
   "metadata": {},
   "source": [
    "### 3. Take Random Actions in the Environment\n",
    "\n",
    "In the next code cell, you will learn how to use the Python API to control the agents and receive feedback from the environment.\n",
    "\n",
    "Once this cell is executed, you will watch the agents' performance, if they select actions at random with each time step.  A window should pop up that allows you to observe the agents.\n",
    "\n",
    "Of course, as part of the project, you'll have to change the code so that the agents are able to use their experiences to gradually choose better actions when interacting with the environment!"
   ]
  },
  {
   "cell_type": "code",
   "execution_count": 5,
   "metadata": {},
   "outputs": [
    {
     "name": "stdout",
     "output_type": "stream",
     "text": [
      "Score (max over agents) from episode 1: 0.0\n",
      "Score (max over agents) from episode 2: 0.0\n",
      "Score (max over agents) from episode 3: 0.0\n",
      "Score (max over agents) from episode 4: 0.0\n",
      "Score (max over agents) from episode 5: 0.09000000171363354\n"
     ]
    }
   ],
   "source": [
    "for i in range(1, 6):                                      # play game for 5 episodes\n",
    "    env_info = env.reset(train_mode=False)[brain_name]     # reset the environment    \n",
    "    states = env_info.vector_observations                  # get the current state (for each agent)\n",
    "    scores = np.zeros(num_agents)                          # initialize the score (for each agent)\n",
    "    while True:\n",
    "        actions = np.random.randn(num_agents, action_size) # select an action (for each agent)\n",
    "        actions = np.clip(actions, -1, 1)                  # all actions between -1 and 1\n",
    "        env_info = env.step(actions)[brain_name]           # send all actions to tne environment\n",
    "        next_states = env_info.vector_observations         # get next state (for each agent)\n",
    "        rewards = env_info.rewards                         # get reward (for each agent)\n",
    "        dones = env_info.local_done                        # see if episode finished\n",
    "        scores += env_info.rewards                         # update the score (for each agent)\n",
    "        states = next_states                               # roll over states to next time step\n",
    "        if np.any(dones):                                  # exit loop if episode finished\n",
    "            break\n",
    "    print('Score (max over agents) from episode {}: {}'.format(i, np.max(scores)))"
   ]
  },
  {
   "cell_type": "markdown",
   "metadata": {},
   "source": [
    "When finished, you can close the environment."
   ]
  },
  {
   "cell_type": "markdown",
   "metadata": {},
   "source": [
    "env.close()"
   ]
  },
  {
   "cell_type": "code",
   "execution_count": null,
   "metadata": {},
   "outputs": [],
   "source": [
    "for i in range(1, 2):                                      \n",
    "    env_info = env.reset(train_mode=False)[brain_name]         \n",
    "    states = env_info.vector_observations                  \n",
    "    scores = np.zeros(num_agents)\n",
    "    while True:\n",
    "        actions = np.random.randn(num_agents, action_size) \n",
    "        actions = np.clip(actions, -1, 1)                  \n",
    "        env_info = env.step(actions)[brain_name]           \n",
    "        next_states = env_info.vector_observations         \n",
    "        rewards = env_info.rewards                         \n",
    "        dones = env_info.local_done \n",
    "        '''\n",
    "        print('\\n\\nstates: ', states, \n",
    "              '\\n\\nactionsets: ', actions,\n",
    "              '\\n\\nrewards: ', rewards,\n",
    "              '\\n\\nnext states: ', next_states,\n",
    "              '\\n\\nisdones: ', dones, '\\n\\n\\n')\n",
    "        '''\n",
    "        scores += env_info.rewards                         \n",
    "        states = next_states                               \n",
    "        if np.any(dones):                                  \n",
    "            break\n",
    "    print(scores)\n",
    "    print('Score (max over agents) from episode {}: {}'.format(i, np.max(scores)))"
   ]
  },
  {
   "cell_type": "markdown",
   "metadata": {},
   "source": [
    "### 4. It's Your Turn!\n",
    "\n",
    "Now it's your turn to train your own agent to solve the environment!  When training the environment, set `train_mode=True`, so that the line for resetting the environment looks like the following:\n",
    "```python\n",
    "env_info = env.reset(train_mode=True)[brain_name]\n",
    "```"
   ]
  },
  {
   "cell_type": "code",
   "execution_count": 15,
   "metadata": {},
   "outputs": [
    {
     "data": {
      "text/plain": [
       "{'visual_observations': [],\n",
       " 'vector_observations': array([[ 0.        ,  0.        ,  0.        ,  0.        ,  0.        ,\n",
       "          0.        ,  0.        ,  0.        ,  0.        ,  0.        ,\n",
       "          0.        ,  0.        ,  0.        ,  0.        ,  0.        ,\n",
       "          0.        , -6.56088734, -1.5       , -0.        ,  0.        ,\n",
       "         -6.37448406,  6.        , -0.        ,  0.        ],\n",
       "        [ 0.        ,  0.        ,  0.        ,  0.        ,  0.        ,\n",
       "          0.        ,  0.        ,  0.        ,  0.        ,  0.        ,\n",
       "          0.        ,  0.        ,  0.        ,  0.        ,  0.        ,\n",
       "          0.        , -6.96623087, -1.5       ,  0.        ,  0.        ,\n",
       "          6.37448406,  6.        ,  0.        ,  0.        ]]),\n",
       " 'text_observations': ['', ''],\n",
       " 'memories': array([], shape=(0, 0), dtype=float64),\n",
       " 'rewards': [0.0, -0.009999999776482582],\n",
       " 'local_done': [True, True],\n",
       " 'max_reached': [False, False],\n",
       " 'agents': [942, 952],\n",
       " 'previous_vector_actions': array([[0., 0.],\n",
       "        [0., 0.]]),\n",
       " 'previous_text_actions': ['', '']}"
      ]
     },
     "execution_count": 15,
     "metadata": {},
     "output_type": "execute_result"
    }
   ],
   "source": [
    "env_info.__dict__"
   ]
  },
  {
   "cell_type": "markdown",
   "metadata": {},
   "source": [
    "#### Load resources for the project"
   ]
  },
  {
   "cell_type": "code",
   "execution_count": 6,
   "metadata": {},
   "outputs": [],
   "source": [
    "from multiagent_resources import Agent, plot_episode_scores"
   ]
  },
  {
   "cell_type": "markdown",
   "metadata": {},
   "source": [
    "#### Instanciate Agent (which instanciates Actors, Critics, Noises and ExperienceBuffers)"
   ]
  },
  {
   "cell_type": "code",
   "execution_count": 41,
   "metadata": {},
   "outputs": [],
   "source": [
    "agent_kwargs = {\n",
    "    'alpha_actor': 0.001, \n",
    "    'alpha_critic': 0.001,\n",
    "    'input_dims': 24,\n",
    "    'tau': 0.01,\n",
    "    'batch_size': 256,\n",
    "    'layer1_size': 128, \n",
    "    'layer2_size': 64, \n",
    "    'n_actions': 2, \n",
    "    'gamma': .97,\n",
    "    'team_spirit': 0.75\n",
    "}"
   ]
  },
  {
   "cell_type": "code",
   "execution_count": 42,
   "metadata": {},
   "outputs": [],
   "source": [
    "agent = Agent(**agent_kwargs)\n",
    "\n",
    "score_history = []"
   ]
  },
  {
   "cell_type": "code",
   "execution_count": 43,
   "metadata": {},
   "outputs": [
    {
     "name": "stdout",
     "output_type": "stream",
     "text": [
      "Epoch: 100... AvgLast100Score: 0.00390...\n",
      "Epoch: 200... AvgLast100Score: 0.00790...\n",
      "Epoch: 300... AvgLast100Score: 0.05780...\n",
      "Epoch: 400... AvgLast100Score: 0.08150...\n",
      "Epoch: 500... AvgLast100Score: 0.09640...\n",
      "Epoch: 600... AvgLast100Score: 0.12720...\n",
      "Epoch: 700... AvgLast100Score: 0.19800...\n",
      "\n",
      "Training Finished at episode 794 !!!\n",
      " AvgLast100Score: 0.50790...\n"
     ]
    },
    {
     "data": {
      "image/png": "[encoded data removed]",
      "text/plain": [
       "<Figure size 936x504 with 1 Axes>"
      ]
     },
     "metadata": {
      "needs_background": "light"
     },
     "output_type": "display_data"
    }
   ],
   "source": [
    "for episode in range(len(score_history), len(score_history)+5000): # we will run for 5000 episodes (can be rerun for additional 5000s)\n",
    "    isdone1_future_env = False\n",
    "    score1, score2 = 0. , 0.\n",
    "    state1_present_env, state2_present_env = env.reset(train_mode=True)[brain_name].vector_observations # reset env for each episode-epoch\n",
    "    step_index = 0\n",
    "    while not isdone1_future_env: \n",
    "        action1_present_env = agent.choose_action(state1_present_env, agent.actor1, agent.noise1()) # calc action for agents\n",
    "        action2_present_env = agent.choose_action(state2_present_env, agent.actor2, agent.noise2())\n",
    "\n",
    "        actionX_present_env = np.stack((action1_present_env, action2_present_env)) # bind actions together to feed anvironment step\n",
    "        \n",
    "        env_response = env.step(actionX_present_env)[brain_name] # step in environment\n",
    "        \n",
    "        state1_future_env,  state2_future_env  = env_response.vector_observations # get agent state vectors\n",
    "        reward1_future_env, reward2_future_env = env_response.rewards # get agent reward vectors\n",
    "        isdone1_future_env, isdone2_future_env = env_response.local_done # get agent done vectors\n",
    "        \n",
    "        if step_index % 1 == 0:\n",
    "            agent.remark(agent.memory1, state1_present_env, action1_present_env, \n",
    "                         reward1_future_env, state1_future_env, isdone1_future_env) # store SARSD data for agents\n",
    "            agent.remark(agent.memory2, state2_present_env, action2_present_env, \n",
    "                         reward2_future_env, state2_future_env, isdone2_future_env)\n",
    "            \n",
    "            agent.learn()\n",
    "        \n",
    "        score1 += reward1_future_env # collect rewards for agents\n",
    "        score2 += reward2_future_env\n",
    "        \n",
    "        state1_present_env, state2_present_env = state1_future_env,  state2_future_env # present <- future \n",
    "\n",
    "        step_index += 1\n",
    "\n",
    "    score_history.append(max(score1, score2)) # as per project definition episode score is the better overall score for agents\n",
    "    \n",
    "    if (episode+1) % 100 == 0: # show intermediate results at every 100 steps\n",
    "        print('Epoch: {}... AvgLast{}Score: {:.5f}...'.format( \\\n",
    "            episode+1, \n",
    "            100,\n",
    "            np.mean(score_history[-100:])\n",
    "        ))\n",
    "    \n",
    "    if np.mean(score_history[-100:]) > 0.5: # stop if 0.5 average score is reached (average score of the last 100 episodes)\n",
    "        break\n",
    "                      \n",
    "print('\\nTraining Finished at episode {} !!!\\n AvgLast100Score: {:.5f}...'.format(episode+1, np.mean(score_history[-100:])))  \n",
    "plot_episode_scores(score_history, 0.5)"
   ]
  },
  {
   "cell_type": "code",
   "execution_count": 44,
   "metadata": {},
   "outputs": [
    {
     "name": "stdout",
     "output_type": "stream",
     "text": [
      "saving checkpoint\n",
      "saving checkpoint\n",
      "saving checkpoint\n",
      "saving checkpoint\n",
      "saving checkpoint\n",
      "saving checkpoint\n",
      "saving checkpoint\n",
      "saving checkpoint\n"
     ]
    }
   ],
   "source": [
    "agent.save_models() # saving model parameters\n",
    "np.save('scores.npy', score_history) # saving max scores"
   ]
  },
  {
   "cell_type": "markdown",
   "metadata": {},
   "source": [
    "## Replicate model "
   ]
  },
  {
   "cell_type": "code",
   "execution_count": null,
   "metadata": {},
   "outputs": [],
   "source": [
    "agent = Agent(**agent_kwargs)\n",
    "agent.load_models()"
   ]
  },
  {
   "cell_type": "code",
   "execution_count": null,
   "metadata": {},
   "outputs": [],
   "source": []
  }
 ],
 "metadata": {
  "kernelspec": {
   "display_name": "Python 3",
   "language": "python",
   "name": "python3"
  },
  "language_info": {
   "codemirror_mode": {
    "name": "ipython",
    "version": 3
   },
   "file_extension": ".py",
   "mimetype": "text/x-python",
   "name": "python",
   "nbconvert_exporter": "python",
   "pygments_lexer": "ipython3",
   "version": "3.6.10"
  }
 },
 "nbformat": 4,
 "nbformat_minor": 4
}
